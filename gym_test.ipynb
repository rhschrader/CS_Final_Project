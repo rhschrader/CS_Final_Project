{
 "cells": [
  {
   "cell_type": "code",
   "execution_count": 2,
   "metadata": {},
   "outputs": [],
   "source": [
    "import numpy as np\n",
    "import gym\n",
    "import ale_py\n",
    "import matplotlib.pyplot as plt"
   ]
  },
  {
   "cell_type": "code",
   "execution_count": 12,
   "metadata": {},
   "outputs": [
    {
     "name": "stderr",
     "output_type": "stream",
     "text": [
      "/Users/rossschrader/env/lib/python3.9/site-packages/gym/utils/passive_env_checker.py:31: UserWarning: \u001b[33mWARN: A Box observation space has an unconventional shape (neither an image, nor a 1D vector). We recommend flattening the observation to have only a 1D vector or use a custom policy to properly process the data. Actual observation shape: (210, 160)\u001b[0m\n",
      "  logger.warn(\n",
      "/Users/rossschrader/env/lib/python3.9/site-packages/keras/optimizers/legacy/rmsprop.py:143: UserWarning: The `lr` argument is deprecated, use `learning_rate` instead.\n",
      "  super().__init__(name, **kwargs)\n"
     ]
    }
   ],
   "source": [
    "import numpy as np\n",
    "import tensorflow as tf\n",
    "from tensorflow import keras\n",
    "from keras import layers\n",
    "import gym\n",
    "from Q_val import QNetwork\n",
    "from Policy import PolicyNetwork\n",
    "\n",
    "# --- Define Game Environment ---\n",
    "game = 'ALE/Atlantis-v5'\n",
    "render_mode = \"rgb_array\"\n",
    "obs_type = \"grayscale\"\n",
    "full_action_space = False\n",
    "frameskip = 1\n",
    "# make environment\n",
    "env = gym.make(game, obs_type=obs_type, render_mode=render_mode, full_action_space=full_action_space, frameskip=frameskip)\n",
    "\n",
    "# --- Define Hyperparameters ---\n",
    "alpha = 0.01\n",
    "gamma = 0.99\n",
    "input_shape = (80, 84, 4)\n",
    "batch_size = 32\n",
    "memory_size = 100000\n",
    "update_step = 4\n",
    "update_target_step = 10000\n",
    "random_frames = 50000\n",
    "\n",
    "\n",
    "# --- Define DQN Agent ---\n",
    "## parameters\n",
    "alpha = 0.01\n",
    "gamma = 0.99\n",
    "input_shape = (80, 84, 4)\n",
    "## networks\n",
    "Q = QNetwork(env, input_shape, alpha, gamma)\n",
    "Q_target = QNetwork(env, input_shape, alpha, gamma)\n",
    "\n",
    "# --- Define Policy ---\n",
    "## parameters\n",
    "epsilon = 0.9\n",
    "epsilon_decay = 1e-6\n",
    "min_epsilon = 0.1\n",
    "## policy\n",
    "policy = PolicyNetwork(env.action_space.n, epsilon=epsilon)\n",
    "\n",
    "\n",
    "# --- Define Training ---\n",
    "## parameters\n",
    "max_steps = 10000\n",
    "running_reward = 0\n",
    "solved_reward = 30000\n",
    "## training\n",
    "\n",
    "state = []\n",
    "env.seed(0)\n",
    "state.append(Q.preprocess(env.reset()[0]))\n",
    "\n",
    "for _ in range(3):\n",
    "    state.append(Q.preprocess(env.step(np.random.randint(0,3))[0]))\n",
    "state = np.array(state)\n",
    "\n",
    "episode_reward = 0"
   ]
  },
  {
   "cell_type": "code",
   "execution_count": 18,
   "metadata": {},
   "outputs": [
    {
     "ename": "IndexError",
     "evalue": "index 4 is out of bounds for axis 0 with size 4",
     "output_type": "error",
     "traceback": [
      "\u001b[0;31m---------------------------------------------------------------------------\u001b[0m",
      "\u001b[0;31mIndexError\u001b[0m                                Traceback (most recent call last)",
      "Cell \u001b[0;32mIn[18], line 1\u001b[0m\n\u001b[0;32m----> 1\u001b[0m plt\u001b[39m.\u001b[39mimshow(state[\u001b[39m4\u001b[39;49m])\n",
      "\u001b[0;31mIndexError\u001b[0m: index 4 is out of bounds for axis 0 with size 4"
     ]
    }
   ],
   "source": []
  },
  {
   "cell_type": "code",
   "execution_count": 9,
   "metadata": {},
   "outputs": [
    {
     "name": "stdout",
     "output_type": "stream",
     "text": [
      "(80, 84, 4)\n"
     ]
    },
    {
     "name": "stderr",
     "output_type": "stream",
     "text": [
      "/Users/rossschrader/env/lib/python3.9/site-packages/gym/utils/passive_env_checker.py:31: UserWarning: \u001b[33mWARN: A Box observation space has an unconventional shape (neither an image, nor a 1D vector). We recommend flattening the observation to have only a 1D vector or use a custom policy to properly process the data. Actual observation shape: (210, 160)\u001b[0m\n",
      "  logger.warn(\n"
     ]
    }
   ],
   "source": [
    "env = gym.make('ALE/Atlantis-v5', obs_type=\"grayscale\",render_mode=\"rgb_array\", full_action_space = False)\n",
    "env.reset()\n",
    "#dqn = DQN(env, input_shape=(84, 80, 4))\n",
    "#print(dqn.model.summary())\n",
    "j = []\n",
    "for i in range(4):\n",
    "    #obs = env.step(1)[0]\n",
    "    #obs = dqn.preprocess(obs)\n",
    "    obs = np.random.randint(0, 255, size=(84, 80))\n",
    "    j.append(obs)\n",
    "\n",
    "j = np.array(j)\n",
    "print(j.T.shape)"
   ]
  },
  {
   "cell_type": "code",
   "execution_count": 32,
   "metadata": {},
   "outputs": [
    {
     "name": "stdout",
     "output_type": "stream",
     "text": [
      "[2 0 7 4 8]\n",
      "[3 1 8 5 9]\n",
      "[ True False  True False  True False  True False  True False]\n"
     ]
    },
    {
     "data": {
      "text/plain": [
       "1"
      ]
     },
     "execution_count": 32,
     "metadata": {},
     "output_type": "execute_result"
    }
   ],
   "source": [
    "x = np.array([1,2,3,4,5,6,7,8,9,10])\n",
    "index = np.random.choice(x.shape[0], 5, replace=False)\n",
    "print(index)\n",
    "print(x[index])\n",
    "x = np.array([True, False, True, False, True, False, True, False, True, False])\n",
    "#for i in range(len(x)):\n",
    "#    x[i] = float(x[i])\n",
    "print(x)\n",
    "x[5] + 1\n"
   ]
  },
  {
   "cell_type": "code",
   "execution_count": 5,
   "metadata": {},
   "outputs": [],
   "source": [
    "env = gym.make('Pong-v0')\n",
    "\n",
    "# returns an initial observation\n",
    "I = env.reset()[0]\n",
    "I = I[35:185]\n",
    "I = I[::2,::2,0] # downsample by factor of 2.\n",
    "I[I == 144] = 0 # erase background (background type 1)\n",
    "I[I == 109] = 0 # erase background (background type 2)\n",
    "I[I != 0] = 1 # everything else (paddles, ball) \n",
    "\n"
   ]
  },
  {
   "cell_type": "code",
   "execution_count": 4,
   "metadata": {},
   "outputs": [
    {
     "data": {
      "text/plain": [
       "array([10, 11, 12, 13])"
      ]
     },
     "execution_count": 4,
     "metadata": {},
     "output_type": "execute_result"
    }
   ],
   "source": [
    "memory = [1, 2, 4, 5, 6, 7, 8, 9, 10, 11, 12, 13]\n",
    "memory = np.array(memory)\n",
    "memory[-4:]"
   ]
  },
  {
   "cell_type": "code",
   "execution_count": 5,
   "metadata": {},
   "outputs": [
    {
     "name": "stdout",
     "output_type": "stream",
     "text": [
      "{'lives': 0, 'episode_frame_number': 2, 'frame_number': 2}\n",
      "-3.0\n"
     ]
    },
    {
     "data": {
      "text/plain": [
       "<matplotlib.image.AxesImage at 0x13bafa820>"
      ]
     },
     "execution_count": 5,
     "metadata": {},
     "output_type": "execute_result"
    },
    {
     "data": {
      "image/png": "[encoded data removed]",
      "text/plain": [
       "<Figure size 640x480 with 1 Axes>"
      ]
     },
     "metadata": {},
     "output_type": "display_data"
    }
   ],
   "source": [
    "x, r, d, i, x1 = env.step(0)\n",
    "print(x1)\n",
    "print(r)\n",
    "plt.imshow(x)"
   ]
  },
  {
   "cell_type": "code",
   "execution_count": 24,
   "metadata": {},
   "outputs": [
    {
     "data": {
      "text/plain": [
       "<matplotlib.image.AxesImage at 0x1636e1340>"
      ]
     },
     "execution_count": 24,
     "metadata": {},
     "output_type": "execute_result"
    },
    {
     "data": {
      "image/png": "[encoded data removed]",
      "text/plain": [
       "<Figure size 640x480 with 1 Axes>"
      ]
     },
     "metadata": {},
     "output_type": "display_data"
    }
   ],
   "source": [
    "plt.imshow(env.step(1)[0])"
   ]
  },
  {
   "cell_type": "code",
   "execution_count": 8,
   "metadata": {},
   "outputs": [
    {
     "ename": "TypeError",
     "evalue": "'Discrete' object is not subscriptable",
     "output_type": "error",
     "traceback": [
      "\u001b[0;31m---------------------------------------------------------------------------\u001b[0m",
      "\u001b[0;31mTypeError\u001b[0m                                 Traceback (most recent call last)",
      "Cell \u001b[0;32mIn[8], line 1\u001b[0m\n\u001b[0;32m----> 1\u001b[0m env\u001b[39m.\u001b[39;49maction_space[\u001b[39m0\u001b[39;49m]\n",
      "\u001b[0;31mTypeError\u001b[0m: 'Discrete' object is not subscriptable"
     ]
    }
   ],
   "source": [
    "env.step"
   ]
  },
  {
   "cell_type": "code",
   "execution_count": null,
   "metadata": {},
   "outputs": [],
   "source": []
  }
 ],
 "metadata": {
  "kernelspec": {
   "display_name": "env",
   "language": "python",
   "name": "python3"
  },
  "language_info": {
   "codemirror_mode": {
    "name": "ipython",
    "version": 3
   },
   "file_extension": ".py",
   "mimetype": "text/x-python",
   "name": "python",
   "nbconvert_exporter": "python",
   "pygments_lexer": "ipython3",
   "version": "3.9.16"
  },
  "orig_nbformat": 4
 },
 "nbformat": 4,
 "nbformat_minor": 2
}
